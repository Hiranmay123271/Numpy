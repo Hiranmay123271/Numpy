{
  "metadata": {
    "kernelspec": {
      "name": "python",
      "display_name": "Python (Pyodide)",
      "language": "python"
    },
    "language_info": {
      "codemirror_mode": {
        "name": "python",
        "version": 3
      },
      "file_extension": ".py",
      "mimetype": "text/x-python",
      "name": "python",
      "nbconvert_exporter": "python",
      "pygments_lexer": "ipython3",
      "version": "3.8"
    }
  },
  "nbformat_minor": 4,
  "nbformat": 4,
  "cells": [
    {
      "cell_type": "markdown",
      "source": "# Therotical questions",
      "metadata": {}
    },
    {
      "cell_type": "markdown",
      "source": "1. Explain the purpose and advantages of Numpy in scientific computing and data analysis. How does it enhance Python's capabilities for numerical operations?\n\nAns:Purpose of numpy:\n\n1.Efficient data manipulation and storage: NumPy supports arrays, particularly multi-dimensional arrays, which are more effective for numerical data than Python's built-in lists.\n   \n2.Mathematical operations: It provides a large set of performance-optimized mathematical functions and operations (such as matrix operations, linear algebra, statistical functions, etc.).\n\n3.Foundation for other libraries: NumPy provides the groundwork for numerous other scientific libraries, including SciPy, Pandas, and machine learning libraries like PyTorch and TensorFlow.\n\nAdvantages of numpy:\n\n1.Performance: Because NumPy is implemented in C, which brings it closer to hardware level, operations on NumPy arrays are substantially faster than on conventional Python lists.\n   \n2.Memory efficiency: Because NumPy arrays store data in a single, continuous block of memory, they require less memory than Python lists.\n\n3.Vectorization: NumPy enables operations to be applied element-wise on arrays without the need for creating loops, improving readability and reducing error rates.\n\n4.Broadcasting: NumPy automatically manages actions (such adding a scalar to an array) on arrays of various forms in a way that prevents mistakes or human changes.\n\n\n",
      "metadata": {}
    },
    {
      "cell_type": "markdown",
      "source": "2. Compare and contrast np.mean() and np.average() functions in Numpy. When would you use one over the other?",
      "metadata": {}
    },
    {
      "cell_type": "markdown",
      "source": "Ans:1. np.mean():\n\n1.Goal: Determines the array's arithmetic mean (average) along a given axis, or the array as a whole in the absence of an axis.\n\n2.Weights: All factors are treated equally; weighted averages are not supported.\n\n3.Usage: If you only require the basic arithmetic mean, use np.mean().\n\n\n2.The np.average function\n\n1.Purpose: Functions similarly to np.mean(), but if weights are supplied, it can also compute a weighted average.\n\n2.Weights: You can give each element in the array a different weight based on its importance because it supports weighted averages.\n\n3.Usage: If you require a weighted average or think you might need to add weights later, use np.average().\n\nWhen to use it: (i) For faster and easier simple, unweighted averages, use np.mean().\n\n(ii)If you need to compute a weighted average, use np.average(). If no weights are specified, it behaves like np.mean().\n\n",
      "metadata": {}
    },
    {
      "cell_type": "markdown",
      "source": "3. Describe the methods for reversing a Numpy array along different axes. Provide examples for ID and 2D arrays.",
      "metadata": {}
    },
    {
      "cell_type": "markdown",
      "source": "Ans:NumPy arrays can be reversed along different axes using slicing or dedicated operations. To reverse 1D and 2D arrays, follow these steps:\n\n1.Reversing a 1D array: Slicing with a step of -1 can be used to reverse a 1D array.\n\n## Let's take example to understand",
      "metadata": {}
    },
    {
      "cell_type": "code",
      "source": "# Reversing 1D array\n\nimport numpy as np\narr1=np.array([1,2,3,4])\n\nreversedarr1 = arr1[::-1]\n\nprint(reversedarr1)",
      "metadata": {
        "trusted": true
      },
      "outputs": [
        {
          "name": "stdout",
          "text": "[4 3 2 1]\n",
          "output_type": "stream"
        }
      ],
      "execution_count": 30
    },
    {
      "cell_type": "markdown",
      "source": "2.Reversing a 2D Array: By designating the axis during slicing, 2D arrays can be reversed along several axes (rows or columns).\n",
      "metadata": {}
    },
    {
      "cell_type": "code",
      "source": "import numpy as np\n\n# 2D array\narr_2d = np.array([[1, 2, 3],\n                   [4, 5, 6],\n                   [7, 8, 9]])\n\n# Reverse along axis 0 (rows)\nreversed_rows = arr_2d[::-1, :]\n\nprint(reversed_rows)\n",
      "metadata": {
        "trusted": true
      },
      "outputs": [
        {
          "name": "stdout",
          "text": "[[7 8 9]\n [4 5 6]\n [1 2 3]]\n",
          "output_type": "stream"
        }
      ],
      "execution_count": 31
    },
    {
      "cell_type": "markdown",
      "source": "Example 3: Reverse all columns and rows.\n\nIt is possible to slice both axes in order to reverse rows and columns:\n",
      "metadata": {}
    },
    {
      "cell_type": "code",
      "source": "# Reverse both rows and columns\nreversed_both = arr_2d[::-1, ::-1]\n\nprint(reversed_both)",
      "metadata": {
        "trusted": true
      },
      "outputs": [
        {
          "name": "stdout",
          "text": "[[9 8 7]\n [6 5 4]\n [3 2 1]]\n",
          "output_type": "stream"
        }
      ],
      "execution_count": 32
    },
    {
      "cell_type": "markdown",
      "source": "4. How can you determine the data type of elements in a Numpy array? Discuss the importance of data types in memory management and performance.",
      "metadata": {}
    },
    {
      "cell_type": "markdown",
      "source": "Ans:The.dtype attribute in a NumPy array can be used to determine the data type of its elements.\n",
      "metadata": {}
    },
    {
      "cell_type": "code",
      "source": "import numpy as np\n\narr = np.array([1, 2, 3])\nprint(arr.dtype) \n\narr_float = np.array([1.0, 2.0, 3.0])\nprint(arr_float.dtype)  \n",
      "metadata": {
        "trusted": true
      },
      "outputs": [
        {
          "name": "stdout",
          "text": "int32\nfloat64\n",
          "output_type": "stream"
        }
      ],
      "execution_count": 33
    },
    {
      "cell_type": "markdown",
      "source": "Memory: The Significance of Data Types\n\n1.Memory needs vary depending on the type of data. Memory is used differently for larger data types (like int64) and smaller data types (like int8).\n   \n2.Memory can be saved by selecting the appropriate data type. For instance, when working with simple whole integers, avoid using float64.\n\nSpeed: \n\n1.Because smaller data types use less memory, operations on them are typically faster.\n\n2.Because they require more space, larger data types may cause a little speed decrease.\n\nAccuracy: \n\nResults from some data types are more exact. Float64, for instance, has more accuracy than Float32.",
      "metadata": {}
    },
    {
      "cell_type": "markdown",
      "source": "5. Define ndarrays in Numpy and explain their key features. How do they differ from standard Python lists?",
      "metadata": {}
    },
    {
      "cell_type": "markdown",
      "source": "Ans:N-dimensional arrays, or ndarrays, are the fundamental data structures of NumPy that are used to effectively store and handle massive data sets. It has the capacity to store data in many dimensions (1D, 2D, 3D, etc.) of the same type.\n\n\nKey characteristics of ndarrays:\n\n1.Homogeneous Data: An ndarray can only include elements of the same type, such as all integers or all floats. Faster processing and efficient memory use are made possible by this.\n\n2.Fixed Size: Unlike Python lists, which allow for dynamic size changes, an ndarray's size (the total number of elements) is fixed once it is constructed.\n\n3.N-dimensional: An ndarray (such as a 1D, 2D, or 3D array) can have any number of dimensions. For jobs like dealing with matrices or 3D data, this makes it appropriate.\n\nHow do they differ from standard Python lists?\n\nA NumPy ndarray is not the same as a Python list in a few important aspects. Firstly, unlike Python lists, which can contain elements of various kinds, ndarrays require all of its elements to be of the same data type (for example, all integers or all floats). This improves the memory efficiency of ndarrays. Unlike Python lists, which are dispersed throughout memory, arrays are kept in continuous blocks of memory, facilitating quicker data access and manipulation. The fact that ndarrays can have various dimensions (1D, 2D, 3D, etc.) is another significant distinction. \n\nPython lists, on the other hand, can be nestled to imitate several dimensions, but they are ultimately one-dimensional. Additionally, unlike Python lists, which can grow or shrink dynamically, NumPy arrays have a fixed size after formation, meaning that their length cannot be altered. Last but not least, ndarray operations are far faster than Python lists since NumPy performs vectorized operations on full arrays at once, whereas Python lists typically need loops to process each element separately. Ndarrays are more suited for scientific computing and big datasets because of these distinctions.",
      "metadata": {}
    },
    {
      "cell_type": "markdown",
      "source": "6. Analyze the performance benefits of Numpy arrays over Python lists for large-scale numerical operations.",
      "metadata": {}
    },
    {
      "cell_type": "markdown",
      "source": "Ans:Performance Benefits of NumPy Arrays over Python Lists:\n\n(i)Memory Efficiency:\n\n1.Compared to Python lists, NumPy arrays (ndarrays) have a higher memory efficiency. Memory overhead is decreased by arrays, which employ a fixed type for every element and store data in contiguous memory blocks.\n\n2.Due to their ability to carry references to objects and a variety of data types, Python lists are more versatile but less memory-efficient.\n\n(ii)Quicker Performance:\n\n1.Vectorized operations, which let you operate on arrays element-by-element without the need for loops, are advantageous to NumPy arrays. Compared to Python lists, where processing elements one by one usually requires explicit loops, this is substantially faster.\n\n2.NumPy is internally implemented in C and skips over Python's slower interpretation stage by performing operations at a lower level.\n\n(iii)Broadcasting: By using broadcasting, which involves \"stretched\" smaller arrays to fit the shape of larger arrays without explicitly duplicating data, NumPy can perform operations on arrays with varying shapes. Large-scale activities can operate faster as a result of avoiding manual scaling.\n\n(iv)Optimized Mathematical Functions: NumPy includes built-in functions for multiple operations, including addition, subtraction, linear algebra, and trigonometry. Compared to expressing the same logic with Python lists, these functions are far more efficient and operate more quickly.\n\n(v)Multi-dimensional Support: NumPy effectively manages multi-dimensional arrays, such as matrices, whereas Python lists necessitate laborious, costly loops and manual nesting in order to operate with comparable structures. In scientific computing, where high-dimensional data is frequently encountered, this is especially helpful.\n\n",
      "metadata": {}
    },
    {
      "cell_type": "markdown",
      "source": "7.Compare vstack() and hstack() functions in Numpy. Provide examples demonstrating their usage and output.",
      "metadata": {}
    },
    {
      "cell_type": "markdown",
      "source": "Ans:1.vstack(): This function operates row-wise and stacks arrays vertically (on top of one another). There must be an equal number of columns.\n\n2.hstack(): This function operates column-wise and stacks arrays horizontally (side by side). There must be an equal number of rows.\n\nWhen combining arrays vertically or horizontally to create larger arrays or matrices, these functions come in handy.\n\n## Let's take example to understand",
      "metadata": {}
    },
    {
      "cell_type": "code",
      "source": "## vsatck\n\nimport numpy as np\n\narr1 = np.array([1, 2, 3])\narr2 = np.array([4, 5, 6])\n\n# Vertically stack them\nresult_vstack = np.vstack((arr1, arr2))\n\nprint(result_vstack)\n",
      "metadata": {
        "trusted": true
      },
      "outputs": [
        {
          "name": "stdout",
          "text": "[[1 2 3]\n [4 5 6]]\n",
          "output_type": "stream"
        }
      ],
      "execution_count": 34
    },
    {
      "cell_type": "code",
      "source": "## hstack\n\nimport numpy as np\n\narr1 = np.array([1, 2, 3])\narr2 = np.array([4, 5, 6])\n\n# Horizontally stack them\nresult_hstack = np.hstack((arr1, arr2))\n\nprint(result_hstack)\n",
      "metadata": {
        "trusted": true
      },
      "outputs": [
        {
          "name": "stdout",
          "text": "[1 2 3 4 5 6]\n",
          "output_type": "stream"
        }
      ],
      "execution_count": 35
    },
    {
      "cell_type": "code",
      "source": "## for 2d array\n\narr1 = np.array([[1], [2], [3]])\narr2 = np.array([[4], [5], [6]])\n\nresult_hstack = np.hstack((arr1, arr2))\nprint(result_hstack)\n",
      "metadata": {
        "trusted": true
      },
      "outputs": [
        {
          "name": "stdout",
          "text": "[[1 4]\n [2 5]\n [3 6]]\n",
          "output_type": "stream"
        }
      ],
      "execution_count": 36
    },
    {
      "cell_type": "code",
      "source": "##2 d array\n\narr1 = np.array([[1, 2, 3]])\narr2 = np.array([[4, 5, 6]])\n\nresult_vstack = np.vstack((arr1, arr2))\nprint(result_vstack)\n",
      "metadata": {
        "trusted": true
      },
      "outputs": [
        {
          "name": "stdout",
          "text": "[[1 2 3]\n [4 5 6]]\n",
          "output_type": "stream"
        }
      ],
      "execution_count": 37
    },
    {
      "cell_type": "markdown",
      "source": "8.Explain the differences between flipir() and flipud() methods in NumPy, including their effects on various array dimensions.",
      "metadata": {}
    },
    {
      "cell_type": "markdown",
      "source": "Ans:The flipud() and fliplr() functions in NumPy are used to flip arrays along different axes. This is how they vary:\n\n1.np.flipud() (Flip Up-Down): \ni)purpose:This function flips an array upside down, or in other words, it reverses the row order.\n\nii)Effect: The columns of an array remain unaltered; it simply modifies the array's first axis, or rows.\n\niii)Use case: When a 2D array's rows need to be inverted vertically.\n\n## Let's take example to understand",
      "metadata": {}
    },
    {
      "cell_type": "code",
      "source": "import numpy as np\n\narr = np.array([[1, 2, 3],\n                [4, 5, 6],\n                [7, 8, 9]])\n\n# Flip upside down\nresult_flipud = np.flipud(arr)\n\nprint(result_flipud)\n",
      "metadata": {
        "trusted": true
      },
      "outputs": [
        {
          "name": "stdout",
          "text": "[[7 8 9]\n [4 5 6]\n [1 2 3]]\n",
          "output_type": "stream"
        }
      ],
      "execution_count": 38
    },
    {
      "cell_type": "markdown",
      "source": "Ans:2. Left-to-right flip (np.fliplr()):\ni)purpose:The goal is to flip an array from left to right, or to reverse the column order.\n\nii)Effect: The rows of an array remain unaltered; it simply modifies the array's second axis, or the columns.\n\niii)Use case: When a 2D array's column horizontal order needs to be reversed.\n\n## Let's take example to understand",
      "metadata": {}
    },
    {
      "cell_type": "code",
      "source": "arr = np.array([[1, 2, 3],\n                [4, 5, 6],\n                [7, 8, 9]])\n\n# Flip left to right\nresult_fliplr = np.fliplr(arr)\n\nprint(result_fliplr)\n",
      "metadata": {
        "trusted": true
      },
      "outputs": [
        {
          "name": "stdout",
          "text": "[[3 2 1]\n [6 5 4]\n [9 8 7]]\n",
          "output_type": "stream"
        }
      ],
      "execution_count": 39
    },
    {
      "cell_type": "markdown",
      "source": "Effects on Array Dimensions: flipud():\n\n1.It flips the array for a 1D array, which is equivalent to reversing the element order.\n\n2.It flips the rows (vertical axis) of a 2D array while leaving the columns unaltered.\n\n3.It impacts the first axis for greater dimensions (e.g., flipping a 3D array along the vertical axis).\n\n\nfliplr():\n\n1.Since there is no \"left\" or \"right\" in a 1D array, it does not apply.\n\n2.It flips the columns (horizontal axis) of a 2D array, leaving the rows unaltered.\n\n3.It impacts the second axis in greater dimensions (e.g., flipping a 3D array along the horizontal axis).\n",
      "metadata": {}
    },
    {
      "cell_type": "markdown",
      "source": "9. Discuss the functionality of the array _split ) method in Numpy. How does it handle uneven splits?",
      "metadata": {}
    },
    {
      "cell_type": "markdown",
      "source": "Ans:A number of sub-arrays can be created from an array using the numpy.array_split() function. Compared to numpy.split(), it offers greater flexibility, especially in situations where the array cannot be divided equally into the desired number of smaller arrays.\n\nFunctionality of numpy.array_split():\n\n.basic syntax\nnumpy.array_split(ary, indices_or_sections, axis=0)\n\ni)ary: The array of input that has to be split.\n\nii)sections_or_indices: This can be a list of indices where the array should be split, or it can be an integer (the number of equal sections to split into).\n\niii)axis: The array's axis of division (default is 0).\n\nImportant characteristics:\n1. Flexible Splitting: array_split() permits unequal splits without producing an error, in contrast to numpy.split(), which demands that the array be equally divisible by the number of splits.\n2. provides a List: In the event that the original array cannot be divided equally, it provides a list of sub-arrays, each of which may have a different shape.\n\nHandling Uneven Splits: \narray_split() attempts to divide the elements as evenly as it can when the array cannot be split evenly. If any elements remain, they are divided one by one into each sub-array, beginning with the first one.\n   \n## let's take example to understand",
      "metadata": {}
    },
    {
      "cell_type": "code",
      "source": "import numpy as np\n\n# Create a 1D array\narr = np.array([1, 2, 3, 4, 5, 6, 7])\n\n# Split the array into 3 parts\nresult = np.array_split(arr, 3)\n\nprint(result)\n",
      "metadata": {
        "trusted": true
      },
      "outputs": [
        {
          "name": "stdout",
          "text": "[array([1, 2, 3]), array([4, 5]), array([6, 7])]\n",
          "output_type": "stream"
        }
      ],
      "execution_count": 40
    },
    {
      "cell_type": "code",
      "source": "## [array([1, 2, 3]), array([4, 5]), array([6, 7])] # The array [1, 2, 3, 4, 5, 6, 7] is divided into three sub-arrays in this example. Seven elements can't be divided into three equal pieces, therefore the first sub-array has three elements, while the other two have two each.\n",
      "metadata": {
        "trusted": true
      },
      "outputs": [],
      "execution_count": 41
    },
    {
      "cell_type": "markdown",
      "source": "10. Explain the concepts of vectorization and broadcasting in Numpy. How do they contribute to efficient array operations?",
      "metadata": {}
    },
    {
      "cell_type": "markdown",
      "source": "Ans:NumPy vectorization:\nApplying operations to whole arrays or subsets of arrays without explicitly utilizing loops is known as vectorization. NumPy lets you operate on entire arrays at once rather than iterating through each element one at a time. This is made feasible by NumPy's performance-optimized C implementation, which makes array operations significantly faster than with conventional Python loops.\n\nAdvantages of Vectorization\n\n1. Speed: Due to the use of low-level optimizations and the avoidance of Python's loop structures, vectorized operations are substantially faster than looping through elements.\n2. Simplicity: Because complex actions can be carried out in a single line without the requirement for explicit iteration, the code becomes cleaner and easier to comprehend.\n3. Less Error-Prone: Less complexity and code means less opportunities for errors to occur.\n\n\nBroadcasting in NumPy:\nNumPy's sophisticated broadcasting system enables it to conduct actions on arrays of varying shapes so that they appear to be of the same shape. NumPy automatically resizes the arrays to compatible sizes when executing arithmetic operations.\n\nGuidelines for Broadcasting:\n\n1. The smaller-dimensional array is padded with ones on the left side until both arrays have the same number of dimensions if the arrays have different dimensions.\n2. NumPy compares the dimensions if their sizes differ:\n3. Broadcasting is possible if both of them are equal or if one of them is 1.\n4. An error is raised if they are not compatible, meaning they are not equal and neither is 1.\n\n\nContributions to Efficient Array Operations:\n\n1. Reduced Computational Load: Loops, which are computationally costly in Python, are avoided when using vectorization and broadcasting. NumPy significantly increases speed by utilizing optimized C methods.\n2. Improved Readability and Maintainability: When code makes use of broadcasting and vectorization, it is frequently easier to understand and update than when the same code makes use of explicit loops. As a result, it is easier to grasp and less likely to include errors.\n3. Flexibility: Broadcasting enables you to work with arrays of various forms, which is especially helpful in data analysis and scientific computing because datasets may differ in size.\n4. Memory Efficiency: Vectorization and broadcasting aid in memory optimization by preventing needless data copies (as with looping), which makes operations on big datasets more practical.\n",
      "metadata": {}
    },
    {
      "cell_type": "markdown",
      "source": "# Practical Questions",
      "metadata": {}
    },
    {
      "cell_type": "markdown",
      "source": "1. Create a 3X3 Numpy array with random integers between 1 and 100. Then, interchange its rows and columns.",
      "metadata": {}
    },
    {
      "cell_type": "code",
      "source": "import numpy as np\n\n# Create a 3x3 array with random integers between 1 and 100\narray = np.random.randint(1, 101, size=(3, 3))\n\nprint(\"Original Array:\")\nprint(array)\n\n# Interchange rows and columns (transpose)\ntransposed_array = np.transpose(array)\n\nprint(\"\\nTransposed Array:\")\nprint(transposed_array)\n",
      "metadata": {
        "trusted": true
      },
      "outputs": [
        {
          "name": "stdout",
          "text": "Original Array:\n[[45  8 32]\n [33 29  4]\n [53  5 78]]\n\nTransposed Array:\n[[45 33 53]\n [ 8 29  5]\n [32  4 78]]\n",
          "output_type": "stream"
        }
      ],
      "execution_count": 53
    },
    {
      "cell_type": "markdown",
      "source": "2. Generate a ID NumPy array with 10 elements. Reshape it into a 2x5 array, then into a 5x2 array.",
      "metadata": {}
    },
    {
      "cell_type": "code",
      "source": "import numpy as np\n\n# Generate a 1D array with 10 elements\narray_1d = np.arange(10)  # This will create an array with values from 0 to 9\n\nprint(\"Original 1D Array:\")\nprint(array_1d)\n\n# Reshape into a 2x5 array\narray_2x5 = array_1d.reshape(2, 5)\n\nprint(\"\\nReshaped into 2x5 Array:\")\nprint(array_2x5)\n\n# Reshape into a 5x2 array\narray_5x2 = array_1d.reshape(5, 2)\n\nprint(\"\\nReshaped into 5x2 Array:\")\nprint(array_5x2)\n",
      "metadata": {
        "trusted": true
      },
      "outputs": [
        {
          "name": "stdout",
          "text": "Original 1D Array:\n[0 1 2 3 4 5 6 7 8 9]\n\nReshaped into 2x5 Array:\n[[0 1 2 3 4]\n [5 6 7 8 9]]\n\nReshaped into 5x2 Array:\n[[0 1]\n [2 3]\n [4 5]\n [6 7]\n [8 9]]\n",
          "output_type": "stream"
        }
      ],
      "execution_count": 54
    },
    {
      "cell_type": "markdown",
      "source": "4. Create a 4x4 NumPy array with random float values. Add a border of zeros around it, resulting in a 6x6 array.",
      "metadata": {}
    },
    {
      "cell_type": "code",
      "source": "import numpy as np\n\n# Create a 4x4 array with random float values\narray_4x4 = np.random.rand(4, 4)\n\nprint(\"Original 4x4 Array:\")\nprint(array_4x4)\n\n# Add a border of zeros around the array\narray_with_border = np.pad(array_4x4, pad_width=1, mode='constant', constant_values=0)\n\nprint(\"\\nArray with Zero Border (6x6):\")\nprint(array_with_border)\n",
      "metadata": {
        "trusted": true
      },
      "outputs": [
        {
          "name": "stdout",
          "text": "Original 4x4 Array:\n[[0.54928095 0.54281665 0.26038955 0.7581071 ]\n [0.53643719 0.70634461 0.69505394 0.27462764]\n [0.17253807 0.21383483 0.25842828 0.039402  ]\n [0.92742962 0.773882   0.56012587 0.29112871]]\n\nArray with Zero Border (6x6):\n[[0.         0.         0.         0.         0.         0.        ]\n [0.         0.54928095 0.54281665 0.26038955 0.7581071  0.        ]\n [0.         0.53643719 0.70634461 0.69505394 0.27462764 0.        ]\n [0.         0.17253807 0.21383483 0.25842828 0.039402   0.        ]\n [0.         0.92742962 0.773882   0.56012587 0.29112871 0.        ]\n [0.         0.         0.         0.         0.         0.        ]]\n",
          "output_type": "stream"
        }
      ],
      "execution_count": 55
    },
    {
      "cell_type": "markdown",
      "source": "5. Create a Numpy array of strings ['python, 'numpy, 'pandas']. Apply different case transformations (uppercase, lowercase, title case, etc.) to each element.",
      "metadata": {}
    },
    {
      "cell_type": "code",
      "source": "import numpy as np\n\n# Create a NumPy array of strings\narray = np.array(['python', 'numpy', 'pandas'])\n\nprint(\"Original Array:\")\nprint(array)\n\n# Apply uppercase transformation\nupper_case = np.char.upper(array)\nprint(\"\\nUppercase:\")\nprint(upper_case)\n\n# Apply lowercase transformation\nlower_case = np.char.lower(array)\nprint(\"\\nLowercase:\")\nprint(lower_case)\n\n# Apply title case transformation (capitalize the first letter of each word)\ntitle_case = np.char.title(array)\nprint(\"\\nTitle Case:\")\nprint(title_case)\n\n# Apply capitalize transformation (capitalize only the first letter of each string)\ncapitalize_case = np.char.capitalize(array)\nprint(\"\\nCapitalize (first letter):\")\nprint(capitalize_case)\n",
      "metadata": {
        "trusted": true
      },
      "outputs": [
        {
          "name": "stdout",
          "text": "Original Array:\n['python' 'numpy' 'pandas']\n\nUppercase:\n['PYTHON' 'NUMPY' 'PANDAS']\n\nLowercase:\n['python' 'numpy' 'pandas']\n\nTitle Case:\n['Python' 'Numpy' 'Pandas']\n\nCapitalize (first letter):\n['Python' 'Numpy' 'Pandas']\n",
          "output_type": "stream"
        }
      ],
      "execution_count": 56
    },
    {
      "cell_type": "markdown",
      "source": "6. Generate a NumPy array of words. Insert a space between each character of every word in the array.",
      "metadata": {}
    },
    {
      "cell_type": "code",
      "source": "import numpy as np\n\n# Create a NumPy array of words\nwords = np.array(['python', 'numpy', 'pandas'])\n\nprint(\"Original Array:\")\nprint(words)\n\n# Insert a space between each character in every word\nspaced_words = np.char.join(' ', words)\n\nprint(\"\\nWords with spaces between characters:\")\nprint(spaced_words)\n",
      "metadata": {
        "trusted": true
      },
      "outputs": [
        {
          "name": "stdout",
          "text": "Original Array:\n['python' 'numpy' 'pandas']\n\nWords with spaces between characters:\n['p y t h o n' 'n u m p y' 'p a n d a s']\n",
          "output_type": "stream"
        }
      ],
      "execution_count": 57
    },
    {
      "cell_type": "markdown",
      "source": "7. Create two 2D Numpy arrays and perform element-wise addition, subtraction, multiplication, and division.",
      "metadata": {}
    },
    {
      "cell_type": "code",
      "source": "import numpy as np\n\n# Create two 2D arrays\narray1 = np.array([[1, 2, 3], [4, 5, 6]])\narray2 = np.array([[7, 8, 9], [10, 11, 12]])\n\nprint(\"Array 1:\")\nprint(array1)\n\nprint(\"\\nArray 2:\")\nprint(array2)\n\n# Element-wise addition\naddition = array1 + array2\nprint(\"\\nElement-wise Addition:\")\nprint(addition)\n\n# Element-wise subtraction\nsubtraction = array1 - array2\nprint(\"\\nElement-wise Subtraction:\")\nprint(subtraction)\n\n# Element-wise multiplication\nmultiplication = array1 * array2\nprint(\"\\nElement-wise Multiplication:\")\nprint(multiplication)\n\n# Element-wise division\ndivision = array1 / array2\nprint(\"\\nElement-wise Division:\")\nprint(division)\n",
      "metadata": {
        "trusted": true
      },
      "outputs": [
        {
          "name": "stdout",
          "text": "Array 1:\n[[1 2 3]\n [4 5 6]]\n\nArray 2:\n[[ 7  8  9]\n [10 11 12]]\n\nElement-wise Addition:\n[[ 8 10 12]\n [14 16 18]]\n\nElement-wise Subtraction:\n[[-6 -6 -6]\n [-6 -6 -6]]\n\nElement-wise Multiplication:\n[[ 7 16 27]\n [40 55 72]]\n\nElement-wise Division:\n[[0.14285714 0.25       0.33333333]\n [0.4        0.45454545 0.5       ]]\n",
          "output_type": "stream"
        }
      ],
      "execution_count": 58
    },
    {
      "cell_type": "markdown",
      "source": "8. Use Numpy to create a 5x5 identity matrix, then extract its diagonal elements.",
      "metadata": {}
    },
    {
      "cell_type": "code",
      "source": "import numpy as np\n\n# Create a 5x5 identity matrix\nidentity_matrix = np.eye(5)\n\nprint(\"5x5 Identity Matrix:\")\nprint(identity_matrix)\n\n# Extract the diagonal elements\ndiagonal_elements = np.diag(identity_matrix)\n\nprint(\"\\nDiagonal Elements:\")\nprint(diagonal_elements)\n",
      "metadata": {
        "trusted": true
      },
      "outputs": [
        {
          "name": "stdout",
          "text": "5x5 Identity Matrix:\n[[1. 0. 0. 0. 0.]\n [0. 1. 0. 0. 0.]\n [0. 0. 1. 0. 0.]\n [0. 0. 0. 1. 0.]\n [0. 0. 0. 0. 1.]]\n\nDiagonal Elements:\n[1. 1. 1. 1. 1.]\n",
          "output_type": "stream"
        }
      ],
      "execution_count": 59
    },
    {
      "cell_type": "markdown",
      "source": "9. Generate a Numpy array of 100 random integers between 0 and 1000. Find and display all prime numbers in this array.",
      "metadata": {}
    },
    {
      "cell_type": "code",
      "source": "import numpy as np\n\n# Function to check if a number is prime\ndef is_prime(num):\n    if num < 2:\n        return False\n    for i in range(2, int(np.sqrt(num)) + 1):\n        if num % i == 0:\n            return False\n    return True\n\n# Generate an array of 100 random integers between 0 and 1000\nrandom_integers = np.random.randint(0, 1000, size=100)\n\nprint(\"Array of random integers:\")\nprint(random_integers)\n\n# Find all prime numbers in the array\nprime_numbers = np.array([num for num in random_integers if is_prime(num)])\n\nprint(\"\\nPrime numbers in the array:\")\nprint(prime_numbers)\n",
      "metadata": {
        "trusted": true
      },
      "outputs": [
        {
          "name": "stdout",
          "text": "Array of random integers:\n[926 628 856 433 310 818 773 652 664 218 653 426  88 680 155 858  48 705\n 826 466 699 333 959 492  61  10 113  40 706 366 492   3 143  69 231 612\n 194 125 392 741 173 976 788 605 514 181 635 130 230 303  32 809 749 232\n 826   6 284 908 734 325 544 453 976 724 216 632 280 492 512 330 641 444\n 540 867 184 741 924  46 142 643  67 793 827 954  63 633 908 280 409 501\n 594 590 651 759  31  98  60 121 513  38]\n\nPrime numbers in the array:\n[433 773 653  61 113   3 173 181 809 641 643  67 827 409  31]\n",
          "output_type": "stream"
        }
      ],
      "execution_count": 60
    },
    {
      "cell_type": "markdown",
      "source": "10. Create a Numpy array representing daily temperatures for a month. Calculate and display the weekly averages.",
      "metadata": {}
    },
    {
      "cell_type": "code",
      "source": "import numpy as np\n\n# Create a NumPy array representing daily temperatures for 30 days (1 month)\ndaily_temperatures = np.random.randint(15, 35, size=30)  # Random temperatures between 15 and 35\n\nprint(\"Daily Temperatures (30 days):\")\nprint(daily_temperatures)\n\n# Reshape the array to 4 weeks (4 rows, 7 days per week)\nweekly_temperatures = daily_temperatures[:28].reshape(4, 7)  # Take the first 28 days for complete weeks\n\n# Calculate weekly averages\nweekly_averages = weekly_temperatures.mean(axis=1)\n\nprint(\"\\nWeekly Averages:\")\nprint(weekly_averages)\n",
      "metadata": {
        "trusted": true
      },
      "outputs": [
        {
          "name": "stdout",
          "text": "Daily Temperatures (30 days):\n[31 27 21 30 20 27 23 26 34 26 22 27 28 27 33 24 25 16 33 15 15 27 32 31\n 31 23 32 33 26 29]\n\nWeekly Averages:\n[25.57142857 27.14285714 23.         29.85714286]\n",
          "output_type": "stream"
        }
      ],
      "execution_count": 61
    },
    {
      "cell_type": "code",
      "source": "",
      "metadata": {
        "trusted": true
      },
      "outputs": [],
      "execution_count": null
    },
    {
      "cell_type": "code",
      "source": "",
      "metadata": {
        "trusted": true
      },
      "outputs": [],
      "execution_count": null
    },
    {
      "cell_type": "code",
      "source": "",
      "metadata": {
        "trusted": true
      },
      "outputs": [],
      "execution_count": null
    },
    {
      "cell_type": "code",
      "source": "",
      "metadata": {
        "trusted": true
      },
      "outputs": [],
      "execution_count": null
    },
    {
      "cell_type": "code",
      "source": "",
      "metadata": {
        "trusted": true
      },
      "outputs": [],
      "execution_count": null
    }
  ]
}